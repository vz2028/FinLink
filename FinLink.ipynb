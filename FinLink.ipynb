{
  "nbformat": 4,
  "nbformat_minor": 0,
  "metadata": {
    "colab": {
      "provenance": [],
      "authorship_tag": "ABX9TyOEuBsBMN+OfbUer385vRZX",
      "include_colab_link": true
    },
    "kernelspec": {
      "name": "python3",
      "display_name": "Python 3"
    },
    "language_info": {
      "name": "python"
    }
  },
  "cells": [
    {
      "cell_type": "markdown",
      "metadata": {
        "id": "view-in-github",
        "colab_type": "text"
      },
      "source": [
        "<a href=\"https://colab.research.google.com/github/vz2028/FinLink/blob/main/FinLink.ipynb\" target=\"_parent\"><img src=\"https://colab.research.google.com/assets/colab-badge.svg\" alt=\"Open In Colab\"/></a>"
      ]
    },
    {
      "cell_type": "code",
      "source": [
        "pip install sec-api"
      ],
      "metadata": {
        "colab": {
          "base_uri": "https://localhost:8080/"
        },
        "id": "IGrgmJuQro-x",
        "outputId": "9eb6289a-0294-4f9c-accc-2b54c8ed811d"
      },
      "execution_count": null,
      "outputs": [
        {
          "output_type": "stream",
          "name": "stdout",
          "text": [
            "Collecting sec-api\n",
            "  Downloading sec_api-1.0.18-py3-none-any.whl (17 kB)\n",
            "Requirement already satisfied: requests in /usr/local/lib/python3.10/dist-packages (from sec-api) (2.31.0)\n",
            "Requirement already satisfied: charset-normalizer<4,>=2 in /usr/local/lib/python3.10/dist-packages (from requests->sec-api) (3.3.2)\n",
            "Requirement already satisfied: idna<4,>=2.5 in /usr/local/lib/python3.10/dist-packages (from requests->sec-api) (3.7)\n",
            "Requirement already satisfied: urllib3<3,>=1.21.1 in /usr/local/lib/python3.10/dist-packages (from requests->sec-api) (2.0.7)\n",
            "Requirement already satisfied: certifi>=2017.4.17 in /usr/local/lib/python3.10/dist-packages (from requests->sec-api) (2024.2.2)\n",
            "Installing collected packages: sec-api\n",
            "Successfully installed sec-api-1.0.18\n"
          ]
        }
      ]
    },
    {
      "cell_type": "code",
      "source": [
        "from sec_api import FullTextSearchApi\n",
        "\n",
        "FullTextSearchApi = FullTextSearchApi(api_key=\"ce8763d6d4cc1d2a4400e97b4e9046f1498d6935cb451a7974a8142bc1145354\")\n",
        "\n",
        "query = {\n",
        "    \"query\": '\"internal controls\" OR \"United States of America\"',\n",
        "    \"formTypes\": ['8-K', '10-Q', '10-K'],\n",
        "    \"page\": 1\n",
        "}\n",
        "filings = FullTextSearchApi.get_filings(query)\n",
        "for filed in filings[\"filings\"][4:10]:\n",
        "  print(filed)\n"
      ],
      "metadata": {
        "id": "J38WUkkGnkp7",
        "colab": {
          "base_uri": "https://localhost:8080/"
        },
        "outputId": "d9649640-55e6-42c0-99d4-03ebe8ce94b9"
      },
      "execution_count": null,
      "outputs": [
        {
          "output_type": "stream",
          "name": "stdout",
          "text": [
            "{'accessionNo': '0001493152-24-012621', 'cik': '1994373', 'companyNameLong': 'Aceztech Corp (CIK 0001994373)', 'ticker': None, 'description': None, 'formType': '10-Q', 'type': '10-Q', 'filingUrl': 'https://www.sec.gov/Archives/edgar/data/1994373/000149315224012621/form10-q.htm', 'filedAt': '2024-04-02'}\n",
            "{'accessionNo': '0001640334-24-000729', 'cik': '1591565', 'companyNameLong': 'BALLY, CORP. (BLYQ) (CIK 0001591565)', 'ticker': 'BLYQ', 'description': 'FORM 10-Q', 'formType': '10-Q', 'type': '10-Q', 'filingUrl': 'https://www.sec.gov/Archives/edgar/data/1591565/000164033424000729/blyq_10q.htm', 'filedAt': '2024-05-06'}\n",
            "{'accessionNo': '0001640334-23-001955', 'cik': '1591565', 'companyNameLong': 'BALLY, CORP. (CIK 0001591565)', 'ticker': 'BLYQ', 'description': 'FORM 10-Q', 'formType': '10-Q', 'type': '10-Q', 'filingUrl': 'https://www.sec.gov/Archives/edgar/data/1591565/000164033423001955/blyq_10q.htm', 'filedAt': '2023-10-25'}\n",
            "{'accessionNo': '0001640334-23-000968', 'cik': '1593204', 'companyNameLong': 'Huaizhong Health Group, Inc. (ADAD) (CIK 0001593204)', 'ticker': 'ADAD', 'description': 'FORM 10-Q', 'formType': '10-Q', 'type': '10-Q', 'filingUrl': 'https://www.sec.gov/Archives/edgar/data/1593204/000164033423000968/huaizhong_10q.htm', 'filedAt': '2023-05-26'}\n",
            "{'accessionNo': '0001683168-23-003297', 'cik': '1594968', 'companyNameLong': 'Vestiage, Inc. (VEST) (CIK 0001594968)', 'ticker': 'VEST', 'description': 'QUARTERLY REPORT', 'formType': '10-Q', 'type': '10-Q', 'filingUrl': 'https://www.sec.gov/Archives/edgar/data/1594968/000168316823003297/vestiage_i10q-033123.htm', 'filedAt': '2023-05-15'}\n",
            "{'accessionNo': '0001640334-24-000368', 'cik': '1693687', 'companyNameLong': 'GREENLIT VENTURES INC. (GLVT) (CIK 0001693687)', 'ticker': 'GLVT', 'description': 'FORM 10-K', 'formType': '10-K', 'type': '10-K', 'filingUrl': 'https://www.sec.gov/Archives/edgar/data/1693687/000164033424000368/msyn_10k.htm', 'filedAt': '2024-03-08'}\n"
          ]
        }
      ]
    },
    {
      "cell_type": "code",
      "source": [
        "pip install sec-api"
      ],
      "metadata": {
        "colab": {
          "base_uri": "https://localhost:8080/"
        },
        "id": "OedxM1qzVJNt",
        "outputId": "cd64df73-a760-489f-d094-26e3fcd38d83"
      },
      "execution_count": 2,
      "outputs": [
        {
          "output_type": "stream",
          "name": "stdout",
          "text": [
            "Collecting sec-api\n",
            "  Downloading sec_api-1.0.25-py3-none-any.whl.metadata (51 kB)\n",
            "\u001b[?25l     \u001b[90m━━━━━━━━━━━━━━━━━━━━━━━━━━━━━━━━━━━━━━━━\u001b[0m \u001b[32m0.0/51.3 kB\u001b[0m \u001b[31m?\u001b[0m eta \u001b[36m-:--:--\u001b[0m\r\u001b[2K     \u001b[90m━━━━━━━━━━━━━━━━━━━━━━━━━━━━━━━━━━━━━━━━\u001b[0m \u001b[32m51.3/51.3 kB\u001b[0m \u001b[31m2.2 MB/s\u001b[0m eta \u001b[36m0:00:00\u001b[0m\n",
            "\u001b[?25hRequirement already satisfied: requests in /usr/local/lib/python3.10/dist-packages (from sec-api) (2.32.3)\n",
            "Requirement already satisfied: charset-normalizer<4,>=2 in /usr/local/lib/python3.10/dist-packages (from requests->sec-api) (3.4.0)\n",
            "Requirement already satisfied: idna<4,>=2.5 in /usr/local/lib/python3.10/dist-packages (from requests->sec-api) (3.10)\n",
            "Requirement already satisfied: urllib3<3,>=1.21.1 in /usr/local/lib/python3.10/dist-packages (from requests->sec-api) (2.2.3)\n",
            "Requirement already satisfied: certifi>=2017.4.17 in /usr/local/lib/python3.10/dist-packages (from requests->sec-api) (2024.8.30)\n",
            "Downloading sec_api-1.0.25-py3-none-any.whl (19 kB)\n",
            "Installing collected packages: sec-api\n",
            "Successfully installed sec-api-1.0.25\n"
          ]
        }
      ]
    },
    {
      "cell_type": "code",
      "source": [
        "import pandas as pd\n",
        "from sec_api import QueryApi\n",
        "\n",
        "queryApi = QueryApi(api_key='ce8763d6d4cc1d2a4400e97b4e9046f1498d6935cb451a7974a8142bc1145354')\n",
        "\n",
        "# Define the query to fetch the four most recent 10-K filings for ticker \"V\"\n",
        "query = {\n",
        "\"query\": {\"query_string\": {\n",
        "\"query\": \"ticker: V AND formType:\\\"10-K\\\"\",\n",
        "\"default_operator\": \"AND\"\n",
        "}},\n",
        "\"from\": \"0\",\n",
        "\"size\": \"4\",\n",
        "\"sort\": [{\"filedAt\": {\"order\": \"desc\"}}]\n",
        "}\n",
        "\n",
        "response = queryApi.get_filings(query)\n",
        "data = []\n",
        "for filing in response['filings']:\n",
        "  accession_no = filing[\"accessionNo\"]\n",
        "  cik = filing[\"cik\"]\n",
        "  company_name = filing[\"companyNameLong\"]\n",
        "  date_filed = filing[\"filedAt\"]\n",
        "  form_type = filing[\"formType\"]\n",
        "  file_url = f\"https://www.sec.gov/Archives/edgar/data/{cik}/{accession_no.replace('-','')}/Financial_Report.xlsx\"\n",
        "\n",
        "  data.append({\n",
        "    \"Company Name\": company_name,\n",
        "    \"CIK\": cik,\n",
        "    \"Accession Number\": accession_no,\n",
        "    \"Date Filed\": date_filed,\n",
        "    \"Form Type\": form_type,\n",
        "    \"Financial Report URL\": file_url\n",
        "    })\n",
        "\n",
        "outputs = pd.DataFrame(data)\n",
        "print(outputs.head(4))\n"
      ],
      "metadata": {
        "colab": {
          "base_uri": "https://localhost:8080/"
        },
        "id": "AQNvxyttzcmK",
        "outputId": "49df873a-f1d1-4eef-b6aa-5d6ff30dd956"
      },
      "execution_count": 3,
      "outputs": [
        {
          "output_type": "stream",
          "name": "stdout",
          "text": [
            "        Company Name      CIK      Accession Number  \\\n",
            "0  VISA INC. (Filer)  1403161  0001403161-23-000099   \n",
            "1  VISA INC. (Filer)  1403161  0001403161-22-000081   \n",
            "2  VISA INC. (Filer)  1403161  0001403161-21-000060   \n",
            "3  VISA INC. (Filer)  1403161  0001403161-20-000070   \n",
            "\n",
            "                  Date Filed Form Type  \\\n",
            "0  2023-11-15T16:07:14-05:00      10-K   \n",
            "1  2022-11-16T16:06:43-05:00      10-K   \n",
            "2  2021-11-18T16:06:50-05:00      10-K   \n",
            "3  2020-11-19T16:03:34-05:00      10-K   \n",
            "\n",
            "                                Financial Report URL  \n",
            "0  https://www.sec.gov/Archives/edgar/data/140316...  \n",
            "1  https://www.sec.gov/Archives/edgar/data/140316...  \n",
            "2  https://www.sec.gov/Archives/edgar/data/140316...  \n",
            "3  https://www.sec.gov/Archives/edgar/data/140316...  \n"
          ]
        }
      ]
    }
  ]
}